{
 "cells": [
  {
   "cell_type": "markdown",
   "id": "b9eb25e7",
   "metadata": {},
   "source": [
    "# Common Git Commands\n",
    "\n",
    "This notebook contains essential Git commands for version control and collaboration."
   ]
  },
  {
   "cell_type": "markdown",
   "id": "53d8b8a7",
   "metadata": {},
   "source": [
    "## Basic Commands\n",
    "\n",
    "- `git init`: Initialize a new Git repository\n",
    "- `git clone [url]`: Clone a repository from a remote source\n",
    "- `git status`: Check the status of your working directory\n",
    "- `git add [file]`: Add file(s) to staging area\n",
    "- `git add .`: Add all modified files to staging area\n",
    "- `git commit -m \"[message]\"`: Commit staged changes with a message\n",
    "- `git push`: Push commits to remote repository\n",
    "- `git pull`: Fetch and merge changes from remote repository"
   ]
  },
  {
   "cell_type": "markdown",
   "id": "667d2279",
   "metadata": {},
   "source": [
    "## Branch Commands\n",
    "\n",
    "- `git branch`: List all branches\n",
    "- `git branch [branch-name]`: Create a new branch\n",
    "- `git checkout [branch-name]`: Switch to a branch\n",
    "- `git checkout -b [branch-name]`: Create and switch to a new branch\n",
    "- `git merge [branch-name]`: Merge a branch into the current branch\n",
    "- `git branch -d [branch-name]`: Delete a branch"
   ]
  },
  {
   "cell_type": "markdown",
   "id": "5ad7ff86",
   "metadata": {},
   "source": [
    "## Advanced Commands\n",
    "\n",
    "- `git log`: View commit history\n",
    "- `git reset [commit]`: Reset to a specific commit\n",
    "- `git revert [commit]`: Create a new commit that undoes changes\n",
    "- `git stash`: Temporarily store modified files\n",
    "- `git stash pop`: Restore stashed changes\n",
    "- `git remote -v`: List remote repositories\n",
    "- `git fetch`: Download objects from remote repository\n",
    "- `git diff`: Show changes between commits or files"
   ]
  }
 ],
 "metadata": {
  "language_info": {
   "name": "python"
  }
 },
 "nbformat": 4,
 "nbformat_minor": 5
}
